{
 "cells": [
  {
   "cell_type": "markdown",
   "metadata": {},
   "source": [
    "Selection Sort\n",
    "\n",
    "The selection sort algorithm sorts an array by repeatedly finding the minimum element (considering ascending order) from unsorted part and putting it at the beginning. The algorithm maintains two subarrays in a given array.\n",
    "\n",
    "1) The subarray which is already sorted.\n",
    "2) Remaining subarray which is unsorted.\n",
    "\n",
    "In every iteration of selection sort, the minimum element (considering ascending order) from the unsorted subarray is picked and moved to the sorted subarray.\n",
    "\n",
    "Following example explains the above steps:\n",
    "\n",
    "\n",
    "\n",
    "arr[] = 64 25 12 22 11\n",
    "\n",
    "// Find the minimum element in arr[0...4]\n",
    "// and place it at beginning\n",
    "11 25 12 22 64\n",
    "\n",
    "// Find the minimum element in arr[1...4]\n",
    "// and place it at beginning of arr[1...4]\n",
    "11 12 25 22 64\n",
    "\n",
    "// Find the minimum element in arr[2...4]\n",
    "// and place it at beginning of arr[2...4]\n",
    "11 12 22 25 64\n",
    "\n",
    "// Find the minimum element in arr[3...4]\n",
    "// and place it at beginning of arr[3...4]\n",
    "11 12 22 25 64\n",
    "\n",
    "Time Complexity: O(n2) as there are two nested loops.\n",
    "\n",
    "Auxiliary Space: O(1)\n",
    "The good thing about selection sort is it never makes more than O(n) swaps and can be useful when memory write is a costly operation.\n",
    "\n"
   ]
  },
  {
   "cell_type": "code",
   "execution_count": 15,
   "metadata": {},
   "outputs": [
    {
     "name": "stdout",
     "output_type": "stream",
     "text": [
      "Enter size of array: 10\n",
      "Enter your 0 no. element: 9\n",
      "Enter your 1 no. element: 6\n",
      "Enter your 2 no. element: 3\n",
      "Enter your 3 no. element: 2\n",
      "Enter your 4 no. element: 1\n",
      "Enter your 5 no. element: 4\n",
      "Enter your 6 no. element: 7\n",
      "Enter your 7 no. element: 8\n",
      "Enter your 8 no. element: 5\n",
      "Enter your 9 no. element: 0\n",
      "The selection sort are [0, 1, 2, 3, 4, 5, 6, 7, 8, 9].\n"
     ]
    }
   ],
   "source": [
    "size_of_array = int(input(\"Enter size of array: \")) #input size of list (array)\n",
    "\n",
    "array = []                                          #initialize of list (array)\n",
    "\n",
    "for i in range(size_of_array):                      #for loop for index value assigning (0-n)\n",
    "    z = int(input(f\"Enter your {i} no. element: \")) #initialize every element of list (array)\n",
    "    array.append(z)                                 #append or add every element in list (array)\n",
    "    \n",
    "for i in range(len(array)-1):                       #for loop for index searching (0-n-1).because we need not to check last element to other, it's already biggest.  \n",
    "    min_value = i                                   #we assume that first value is minimum value\n",
    "    for j in range(i+1,len(array)):                 #for loop for value compering (0+1-n)\n",
    "        if array[j] < array[min_value]:             #if statements for compering j value to minimum value. if minimum value is greater then j value then go to next step otherwise not.\n",
    "            \n",
    "            min_value = j                           #if minimum value greater then j then assign minimum value index to j value index\n",
    "            \n",
    "    if i != min_value:                              #if statement for compering i index to minimum value index. if they are not same index then owrk next step.\n",
    "        array[i],array[min_value] = array[min_value],array[i]           \n",
    "                                                    #exchanging i index to minimum value index\n",
    "print(f\"The selection sort are {array}.\")           #print sorted list (array)"
   ]
  },
  {
   "cell_type": "code",
   "execution_count": null,
   "metadata": {},
   "outputs": [],
   "source": []
  }
 ],
 "metadata": {
  "kernelspec": {
   "display_name": "Python 3",
   "language": "python",
   "name": "python3"
  },
  "language_info": {
   "codemirror_mode": {
    "name": "ipython",
    "version": 3
   },
   "file_extension": ".py",
   "mimetype": "text/x-python",
   "name": "python",
   "nbconvert_exporter": "python",
   "pygments_lexer": "ipython3",
   "version": "3.7.3"
  }
 },
 "nbformat": 4,
 "nbformat_minor": 2
}
