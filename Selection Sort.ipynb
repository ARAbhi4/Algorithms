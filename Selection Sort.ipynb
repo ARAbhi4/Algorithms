{
 "cells": [
  {
   "cell_type": "markdown",
   "metadata": {},
   "source": [
    "Selection Sort"
   ]
  },
  {
   "cell_type": "code",
   "execution_count": null,
   "metadata": {},
   "outputs": [],
   "source": [
    "size_of_array = int(input(\"Enter size of array: \")) #input size of list (array)\n",
    "\n",
    "array = []                                          #initialize of list (array)\n",
    "\n",
    "for i in range(size_of_array):                      #for loop for index value assigning (0-n)\n",
    "    z = int(input(f\"Enter your {i} no. element: \")) #initialize every element of list (array)\n",
    "    array.append(z)                                 #append or add every element in list (array)\n",
    "    \n",
    "for i in range(len(array)-1):                       #for loop for index searching (0-n-1).because we need not to check last element to other, it's already biggest.  \n",
    "    min_value = i                                   #we assume that first value is minimum value\n",
    "    for j in range(i+1,len(array)):                 #for loop for value compering (0+1-n)\n",
    "        if array[j] < array[min_value]:             #if statements for compering j value to minimum value. if minimum value is greater then j value then go to next step otherwise not.\n",
    "            \n",
    "            min_value = j                           #if minimum value greater then j then assign minimum value index to j value index\n",
    "            \n",
    "    if i != min_value:                              #if statement for compering i index to minimum value index. if they are not same index then owrk next step.\n",
    "        array[i],array[min_value] = array[min_value],array[i]           \n",
    "                                                    #exchanging i index to minimum value index\n",
    "print(f\"The selection sort are {array}.\")           #print sorted list (array)"
   ]
  },
  {
   "cell_type": "code",
   "execution_count": null,
   "metadata": {},
   "outputs": [],
   "source": []
  }
 ],
 "metadata": {
  "kernelspec": {
   "display_name": "Python 3",
   "language": "python",
   "name": "python3"
  },
  "language_info": {
   "codemirror_mode": {
    "name": "ipython",
    "version": 3
   },
   "file_extension": ".py",
   "mimetype": "text/x-python",
   "name": "python",
   "nbconvert_exporter": "python",
   "pygments_lexer": "ipython3",
   "version": "3.7.3"
  }
 },
 "nbformat": 4,
 "nbformat_minor": 2
}
